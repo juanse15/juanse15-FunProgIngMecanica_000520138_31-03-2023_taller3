{
  "nbformat": 4,
  "nbformat_minor": 0,
  "metadata": {
    "colab": {
      "provenance": [],
      "authorship_tag": "ABX9TyNweI1gLzlByIbaS7DEM+6X",
      "include_colab_link": true
    },
    "kernelspec": {
      "name": "python3",
      "display_name": "Python 3"
    },
    "language_info": {
      "name": "python"
    }
  },
  "cells": [
    {
      "cell_type": "markdown",
      "metadata": {
        "id": "view-in-github",
        "colab_type": "text"
      },
      "source": [
        "<a href=\"https://colab.research.google.com/github/juanse15/juanse15-FunProgIngMecanica_000520138_31-03-2023_taller3/blob/main/taller_3.ipynb\" target=\"_parent\"><img src=\"https://colab.research.google.com/assets/colab-badge.svg\" alt=\"Open In Colab\"/></a>"
      ]
    },
    {
      "cell_type": "markdown",
      "source": [
        "#Taller 3: condicionales#\n",
        "##Fundamentos de progrmación##\n",
        "###Juan Sebastián Arteaga Gómez###\n",
        "###juan.arteagag@upb.edu.co###\n",
        "###ID:000520138###"
      ],
      "metadata": {
        "id": "_04MvO34_d9k"
      }
    },
    {
      "cell_type": "code",
      "execution_count": 5,
      "metadata": {
        "colab": {
          "base_uri": "https://localhost:8080/"
        },
        "id": "QI-gMfCM1CVj",
        "outputId": "70df4911-70b8-47f9-aeaa-b7898883137d"
      },
      "outputs": [
        {
          "output_type": "stream",
          "name": "stdout",
          "text": [
            "Ingrese su estrato socioeconómico: 2\n",
            "¿Vive en Montería? (Si/No): no\n",
            "Ingrese su edad: 21\n",
            "Ingrese su promedio académico ponderado proyectado: 4\n",
            "El gasto total mensual es de $1342500.00\n"
          ]
        }
      ],
      "source": [
        "# Definir variables de entrada\n",
        "estrato = int(input(\"Ingrese su estrato socioeconómico: \"))\n",
        "lugar_residencia = input(\"¿Vive en Montería? (Si/No): \")\n",
        "edad = int(input(\"Ingrese su edad: \"))\n",
        "promedio = float(input(\"Ingrese su promedio académico ponderado proyectado: \"))\n",
        "ayuda_transporte = 0\n",
        "apoyo_alimentacion = 0\n",
        "\n",
        "# Calcular apoyo de transporte\n",
        "if estrato == 1:\n",
        "  if edad < 18:\n",
        "    ayuda_transporte = 65000\n",
        "  else:\n",
        "    ayuda_transporte = 50000\n",
        "elif estrato == 2:\n",
        "  if edad < 18:\n",
        "    ayuda_transporte = 45000\n",
        "  else:\n",
        "    ayuda_transporte = 30000\n",
        "elif estrato == 3:\n",
        "  if edad < 18:\n",
        "    ayuda_transporte = 35000\n",
        "  else:\n",
        "    ayuda_transporte = 20000\n",
        "\n",
        "# Calcular apoyo de alimentación\n",
        "gasto_alimentacion = 20000 * 20 # 20 días hábiles por mes\n",
        "if estrato == 1:\n",
        "  if edad < 18:\n",
        "    apoyo_alimentacion = gasto_alimentacion * 0.9\n",
        "  else:\n",
        "    apoyo_alimentacion = gasto_alimentacion * 0.7\n",
        "elif estrato == 2:\n",
        "  if edad < 18:\n",
        "    apoyo_alimentacion = gasto_alimentacion * 0.7\n",
        "  else:\n",
        "    apoyo_alimentacion = gasto_alimentacion * 0.5\n",
        "elif estrato == 3:\n",
        "  if edad < 18:\n",
        "    apoyo_alimentacion = gasto_alimentacion * 0.5\n",
        "  else:\n",
        "    apoyo_alimentacion = gasto_alimentacion * 0.3\n",
        "\n",
        "# Calcular costo de transporte\n",
        "if lugar_residencia.upper() == \"S\":\n",
        "  costo_transporte = 2800 * 2 * 20 # 20 días hábiles por mes\n",
        "else:\n",
        "  costo_transporte = 3500 * 2 * 20 # 20 días hábiles por mes\n",
        "\n",
        "# Calcular costo de matrícula\n",
        "if promedio > 4.8:\n",
        "  precio_matricula = 0\n",
        "elif promedio > 4.5:\n",
        "  precio_matricula = 5000000 * 0.3\n",
        "elif promedio > 4.0:\n",
        "  costo_matricula = 5000000 * 0.6\n",
        "else:\n",
        "  precio_matricula = 5000000\n",
        "\n",
        "# Calcular gasto total mensual\n",
        "gasto_total = costo_transporte + ayuda_transporte + gasto_alimentacion - apoyo_alimentacion + precio_matricula\n",
        "gasto_mensual = gasto_total / 4\n",
        "\n",
        "# Mostrar resultado\n",
        "print(f\"El gasto total mensual es de ${gasto_mensual:.2f}\")"
      ]
    }
  ]
}